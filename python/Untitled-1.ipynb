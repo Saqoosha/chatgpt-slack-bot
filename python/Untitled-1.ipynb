{
 "cells": [
  {
   "cell_type": "code",
   "execution_count": null,
   "metadata": {},
   "outputs": [],
   "source": [
    "import logging\n",
    "import sys\n",
    "\n",
    "logging.basicConfig(stream=sys.stdout, level=logging.DEBUG)\n",
    "logging.getLogger().addHandler(logging.StreamHandler(stream=sys.stdout))"
   ]
  },
  {
   "cell_type": "code",
   "execution_count": null,
   "metadata": {},
   "outputs": [],
   "source": [
    "import os\n",
    "os.environ.get('OPENAI_API_KEY')"
   ]
  },
  {
   "cell_type": "code",
   "execution_count": null,
   "metadata": {},
   "outputs": [],
   "source": [
    "# from llama_index.readers import BeautifulSoupWebReader\n",
    "# documents = BeautifulSoupWebReader().load_data(['https://whatever.co/ja/'])\n",
    "\n",
    "# from llama_index.readers import RssReader\n",
    "# documents = RssReader().load_data(['https://whatever.co/ja/feed/'])\n",
    "\n",
    "from llama_index import download_loader\n",
    "\n",
    "WordpressReader = download_loader(\"WordpressReader\")\n",
    "\n",
    "loader = WordpressReader(url=\"https://cms.whatever.co\", username=os.environ.get('WORDPRESS_USERNAME'), password=os.environ.get('WORDPRESS_PASSWORD'))\n",
    "documents = loader.load_data()"
   ]
  },
  {
   "cell_type": "code",
   "execution_count": null,
   "metadata": {},
   "outputs": [],
   "source": [
    "from llama_index import LangchainEmbedding\n",
    "\n",
    "from langchain.embeddings import HuggingFaceEmbeddings\n",
    "embed_model = LangchainEmbedding(\n",
    "    HuggingFaceEmbeddings(model_name=\"oshizo/sbert-jsnli-luke-japanese-base-lite\")\n",
    ")\n",
    "\n",
    "# from langchain.embeddings import TensorflowHubEmbeddings\n",
    "# embed_model = LangchainEmbedding(TensorflowHubEmbeddings())"
   ]
  },
  {
   "cell_type": "code",
   "execution_count": null,
   "metadata": {},
   "outputs": [],
   "source": [
    "from llama_index import GPTSimpleVectorIndex, LLMPredictor\n",
    "from llama_index.indices.prompt_helper import PromptHelper\n",
    "# index = GPTSimpleVectorIndex(documents)\n",
    "index = GPTSimpleVectorIndex(\n",
    "    documents,\n",
    "    prompt_helper=PromptHelper(\n",
    "        max_input_size=4000,  # LLM入力の最大トークン数\n",
    "        num_output=256,  # LLM出力のトークン数\n",
    "        chunk_size_limit=500,  # チャンクのトークン数\n",
    "        max_chunk_overlap=0,  # チャンクオーバーラップの最大トークン数\n",
    "        separator=\"。\"  # セパレータ\n",
    "    ),\n",
    "    embed_model=embed_model\n",
    ")\n",
    "\n",
    "from langchain.chat_models import ChatOpenAI\n",
    "llm_predictor = LLMPredictor(llm=ChatOpenAI(temperature=0, model_name=\"gpt-3.5-turbo\"))"
   ]
  },
  {
   "cell_type": "code",
   "execution_count": null,
   "metadata": {},
   "outputs": [],
   "source": [
    "# from llama_index.langchain_helpers.chatgpt import ChatGPTLLMPredictor\n",
    "index.query('NHKがクライアントのしごとどんなのがあった？', llm_predictor=llm_predictor, verbose=True)"
   ]
  }
 ],
 "metadata": {
  "kernelspec": {
   "display_name": "Python 3",
   "language": "python",
   "name": "python3"
  },
  "language_info": {
   "codemirror_mode": {
    "name": "ipython",
    "version": 3
   },
   "file_extension": ".py",
   "mimetype": "text/x-python",
   "name": "python",
   "nbconvert_exporter": "python",
   "pygments_lexer": "ipython3",
   "version": "3.9.13"
  },
  "orig_nbformat": 4
 },
 "nbformat": 4,
 "nbformat_minor": 2
}
